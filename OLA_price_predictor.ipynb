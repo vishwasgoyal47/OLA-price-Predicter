{
  "nbformat": 4,
  "nbformat_minor": 0,
  "metadata": {
    "colab": {
      "name": "OLA price predictor",
      "provenance": [],
      "collapsed_sections": []
    },
    "kernelspec": {
      "name": "python3",
      "display_name": "Python 3"
    }
  },
  "cells": [
    {
      "cell_type": "markdown",
      "metadata": {
        "id": "NvUGC8QQV6bV",
        "colab_type": "text"
      },
      "source": [
        "## Importing the libraries"
      ]
    },
    {
      "cell_type": "code",
      "metadata": {
        "id": "wfFEXZC0WS-V",
        "colab_type": "code",
        "colab": {}
      },
      "source": [
        "import numpy as np\n",
        "import matplotlib.pyplot as plt\n",
        "import pandas as pd"
      ],
      "execution_count": null,
      "outputs": []
    },
    {
      "cell_type": "markdown",
      "metadata": {
        "id": "fhYaZ-ENV_c5",
        "colab_type": "text"
      },
      "source": [
        "## Importing the dataset"
      ]
    },
    {
      "cell_type": "code",
      "metadata": {
        "id": "aqHTg9bxWT_u",
        "colab_type": "code",
        "colab": {
          "base_uri": "https://localhost:8080/",
          "height": 72
        },
        "outputId": "2d30109b-5f10-48b3-dd3a-6f87b7f8c3e0"
      },
      "source": [
        "dataset = pd.read_csv('/train.csv')\n",
        "test = pd.read_csv('test.csv')\n",
        "X = dataset.iloc[:, :-1].values\n",
        "y = dataset.iloc[:, -1].values"
      ],
      "execution_count": null,
      "outputs": [
        {
          "output_type": "stream",
          "text": [
            "/usr/local/lib/python3.6/dist-packages/IPython/core/interactiveshell.py:2718: DtypeWarning: Columns (1,4,10) have mixed types.Specify dtype option on import or set low_memory=False.\n",
            "  interactivity=interactivity, compiler=compiler, result=result)\n"
          ],
          "name": "stderr"
        }
      ]
    },
    {
      "cell_type": "code",
      "metadata": {
        "id": "zRNSFgvvb-a7",
        "colab_type": "code",
        "colab": {
          "base_uri": "https://localhost:8080/",
          "height": 401
        },
        "outputId": "94bd2d15-1d79-4492-a2f7-909638ea6eb1"
      },
      "source": [
        "dataset.head()"
      ],
      "execution_count": null,
      "outputs": [
        {
          "output_type": "execute_result",
          "data": {
            "text/html": [
              "<div>\n",
              "<style scoped>\n",
              "    .dataframe tbody tr th:only-of-type {\n",
              "        vertical-align: middle;\n",
              "    }\n",
              "\n",
              "    .dataframe tbody tr th {\n",
              "        vertical-align: top;\n",
              "    }\n",
              "\n",
              "    .dataframe thead th {\n",
              "        text-align: right;\n",
              "    }\n",
              "</style>\n",
              "<table border=\"1\" class=\"dataframe\">\n",
              "  <thead>\n",
              "    <tr style=\"text-align: right;\">\n",
              "      <th></th>\n",
              "      <th>ID</th>\n",
              "      <th>vendor+AF8-id</th>\n",
              "      <th>pickup+AF8-loc</th>\n",
              "      <th>drop+AF8-loc</th>\n",
              "      <th>driver+AF8-tip</th>\n",
              "      <th>mta+AF8-tax</th>\n",
              "      <th>distance</th>\n",
              "      <th>pickup+AF8-time</th>\n",
              "      <th>drop+AF8-time</th>\n",
              "      <th>num+AF8-passengers</th>\n",
              "      <th>toll+AF8-amount</th>\n",
              "      <th>payment+AF8-method</th>\n",
              "      <th>rate+AF8-code</th>\n",
              "      <th>stored+AF8-flag</th>\n",
              "      <th>extra+AF8-charges</th>\n",
              "      <th>improvement+AF8-charge</th>\n",
              "      <th>total+AF8-amount</th>\n",
              "    </tr>\n",
              "  </thead>\n",
              "  <tbody>\n",
              "    <tr>\n",
              "      <th>0</th>\n",
              "      <td>0</td>\n",
              "      <td>1</td>\n",
              "      <td>170.0</td>\n",
              "      <td>233.0</td>\n",
              "      <td>1.83</td>\n",
              "      <td>0.5</td>\n",
              "      <td>0.70</td>\n",
              "      <td>04/04/2017 05:59:43 PM</td>\n",
              "      <td>04/04/2017 06:05:04 PM</td>\n",
              "      <td>1.0</td>\n",
              "      <td>0</td>\n",
              "      <td>1.0</td>\n",
              "      <td>1.0</td>\n",
              "      <td>N</td>\n",
              "      <td>1</td>\n",
              "      <td>0.3</td>\n",
              "      <td>9.13</td>\n",
              "    </tr>\n",
              "    <tr>\n",
              "      <th>1</th>\n",
              "      <td>1</td>\n",
              "      <td>2</td>\n",
              "      <td>151.0</td>\n",
              "      <td>243.0</td>\n",
              "      <td>3.56</td>\n",
              "      <td>0.5</td>\n",
              "      <td>4.64</td>\n",
              "      <td>04/03/2017 07:03:34 PM</td>\n",
              "      <td>04/03/2017 07:20:04 PM</td>\n",
              "      <td>1.0</td>\n",
              "      <td>0</td>\n",
              "      <td>1.0</td>\n",
              "      <td>1.0</td>\n",
              "      <td>N</td>\n",
              "      <td>1</td>\n",
              "      <td>0.3</td>\n",
              "      <td>21.36</td>\n",
              "    </tr>\n",
              "    <tr>\n",
              "      <th>2</th>\n",
              "      <td>2</td>\n",
              "      <td>2</td>\n",
              "      <td>68.0</td>\n",
              "      <td>90.0</td>\n",
              "      <td>1.5</td>\n",
              "      <td>0.5</td>\n",
              "      <td>1.29</td>\n",
              "      <td>04/03/2017 03:06:13 PM</td>\n",
              "      <td>04/03/2017 03:12:30 PM</td>\n",
              "      <td>2.0</td>\n",
              "      <td>0</td>\n",
              "      <td>1.0</td>\n",
              "      <td>1.0</td>\n",
              "      <td>N</td>\n",
              "      <td>0</td>\n",
              "      <td>0.3</td>\n",
              "      <td>8.8</td>\n",
              "    </tr>\n",
              "    <tr>\n",
              "      <th>3</th>\n",
              "      <td>3</td>\n",
              "      <td>2</td>\n",
              "      <td>142.0</td>\n",
              "      <td>234.0</td>\n",
              "      <td>1.5</td>\n",
              "      <td>0.5</td>\n",
              "      <td>2.74</td>\n",
              "      <td>04/04/2017 08:10:52 AM</td>\n",
              "      <td>04/04/2017 08:27:00 AM</td>\n",
              "      <td>1.0</td>\n",
              "      <td>0</td>\n",
              "      <td>1.0</td>\n",
              "      <td>1.0</td>\n",
              "      <td>N</td>\n",
              "      <td>0</td>\n",
              "      <td>0.3</td>\n",
              "      <td>14.8</td>\n",
              "    </tr>\n",
              "    <tr>\n",
              "      <th>4</th>\n",
              "      <td>4</td>\n",
              "      <td>2</td>\n",
              "      <td>238.0</td>\n",
              "      <td>238.0</td>\n",
              "      <td>0</td>\n",
              "      <td>0.5</td>\n",
              "      <td>0.45</td>\n",
              "      <td>04/05/2017 02:02:59 PM</td>\n",
              "      <td>04/05/2017 02:05:41 PM</td>\n",
              "      <td>6.0</td>\n",
              "      <td>0</td>\n",
              "      <td>2.0</td>\n",
              "      <td>1.0</td>\n",
              "      <td>N</td>\n",
              "      <td>0</td>\n",
              "      <td>0.3</td>\n",
              "      <td>4.8</td>\n",
              "    </tr>\n",
              "  </tbody>\n",
              "</table>\n",
              "</div>"
            ],
            "text/plain": [
              "   ID vendor+AF8-id  ...  improvement+AF8-charge  total+AF8-amount\n",
              "0   0             1  ...                     0.3              9.13\n",
              "1   1             2  ...                     0.3             21.36\n",
              "2   2             2  ...                     0.3               8.8\n",
              "3   3             2  ...                     0.3              14.8\n",
              "4   4             2  ...                     0.3               4.8\n",
              "\n",
              "[5 rows x 17 columns]"
            ]
          },
          "metadata": {
            "tags": []
          },
          "execution_count": 13
        }
      ]
    },
    {
      "cell_type": "code",
      "metadata": {
        "id": "rQw5xBFhdH-L",
        "colab_type": "code",
        "colab": {
          "base_uri": "https://localhost:8080/",
          "height": 443
        },
        "outputId": "b88e3030-c3df-4ecf-e09d-427e1a5a83ec"
      },
      "source": [
        "dataset.info()"
      ],
      "execution_count": null,
      "outputs": [
        {
          "output_type": "stream",
          "text": [
            "<class 'pandas.core.frame.DataFrame'>\n",
            "RangeIndex: 1048575 entries, 0 to 1048574\n",
            "Data columns (total 17 columns):\n",
            " #   Column                  Non-Null Count    Dtype  \n",
            "---  ------                  --------------    -----  \n",
            " 0   ID                      1048575 non-null  int64  \n",
            " 1   vendor+AF8-id           1048575 non-null  object \n",
            " 2   pickup+AF8-loc          1048574 non-null  float64\n",
            " 3   drop+AF8-loc            1048574 non-null  float64\n",
            " 4   driver+AF8-tip          1048573 non-null  object \n",
            " 5   mta+AF8-tax             1048574 non-null  object \n",
            " 6   distance                1048574 non-null  float64\n",
            " 7   pickup+AF8-time         1048574 non-null  object \n",
            " 8   drop+AF8-time           1048574 non-null  object \n",
            " 9   num+AF8-passengers      1048574 non-null  float64\n",
            " 10  toll+AF8-amount         1048573 non-null  object \n",
            " 11  payment+AF8-method      1048574 non-null  float64\n",
            " 12  rate+AF8-code           1048574 non-null  float64\n",
            " 13  stored+AF8-flag         1048574 non-null  object \n",
            " 14  extra+AF8-charges       1048574 non-null  object \n",
            " 15  improvement+AF8-charge  1048573 non-null  object \n",
            " 16  total+AF8-amount        1048573 non-null  object \n",
            "dtypes: float64(6), int64(1), object(10)\n",
            "memory usage: 136.0+ MB\n"
          ],
          "name": "stdout"
        }
      ]
    },
    {
      "cell_type": "markdown",
      "metadata": {
        "id": "bWc3a-uogPys",
        "colab_type": "text"
      },
      "source": [
        "Droping the rows with null values and ID\n"
      ]
    },
    {
      "cell_type": "code",
      "metadata": {
        "id": "6ahfXHeCdUrs",
        "colab_type": "code",
        "colab": {
          "base_uri": "https://localhost:8080/",
          "height": 336
        },
        "outputId": "c553f168-7509-4496-9f51-c7fab314ae10"
      },
      "source": [
        "dataset.isnull().sum()"
      ],
      "execution_count": null,
      "outputs": [
        {
          "output_type": "execute_result",
          "data": {
            "text/plain": [
              "ID                        0\n",
              "vendor+AF8-id             0\n",
              "pickup+AF8-loc            1\n",
              "drop+AF8-loc              1\n",
              "driver+AF8-tip            2\n",
              "mta+AF8-tax               1\n",
              "distance                  1\n",
              "pickup+AF8-time           1\n",
              "drop+AF8-time             1\n",
              "num+AF8-passengers        1\n",
              "toll+AF8-amount           2\n",
              "payment+AF8-method        1\n",
              "rate+AF8-code             1\n",
              "stored+AF8-flag           1\n",
              "extra+AF8-charges         1\n",
              "improvement+AF8-charge    2\n",
              "total+AF8-amount          2\n",
              "dtype: int64"
            ]
          },
          "metadata": {
            "tags": []
          },
          "execution_count": 15
        }
      ]
    },
    {
      "cell_type": "code",
      "metadata": {
        "id": "NQft7XOWgh36",
        "colab_type": "code",
        "colab": {}
      },
      "source": [
        "dataset.dropna()\n",
        "test.dropna()\n",
        "dataset=dataset.drop('ID',axis=1)\n",
        "test=test.drop('ID',axis=1)"
      ],
      "execution_count": null,
      "outputs": []
    },
    {
      "cell_type": "code",
      "metadata": {
        "id": "-O_IFET1h7fQ",
        "colab_type": "code",
        "colab": {
          "base_uri": "https://localhost:8080/",
          "height": 425
        },
        "outputId": "e3551d15-f282-4c82-95e2-a92a7a20c847"
      },
      "source": [
        "dataset.info()"
      ],
      "execution_count": null,
      "outputs": [
        {
          "output_type": "stream",
          "text": [
            "<class 'pandas.core.frame.DataFrame'>\n",
            "RangeIndex: 1048575 entries, 0 to 1048574\n",
            "Data columns (total 16 columns):\n",
            " #   Column                  Non-Null Count    Dtype  \n",
            "---  ------                  --------------    -----  \n",
            " 0   vendor+AF8-id           1048575 non-null  object \n",
            " 1   pickup+AF8-loc          1048574 non-null  float64\n",
            " 2   drop+AF8-loc            1048574 non-null  float64\n",
            " 3   driver+AF8-tip          1048573 non-null  object \n",
            " 4   mta+AF8-tax             1048574 non-null  object \n",
            " 5   distance                1048574 non-null  float64\n",
            " 6   pickup+AF8-time         1048574 non-null  object \n",
            " 7   drop+AF8-time           1048574 non-null  object \n",
            " 8   num+AF8-passengers      1048574 non-null  float64\n",
            " 9   toll+AF8-amount         1048573 non-null  object \n",
            " 10  payment+AF8-method      1048574 non-null  float64\n",
            " 11  rate+AF8-code           1048574 non-null  float64\n",
            " 12  stored+AF8-flag         1048574 non-null  object \n",
            " 13  extra+AF8-charges       1048574 non-null  object \n",
            " 14  improvement+AF8-charge  1048573 non-null  object \n",
            " 15  total+AF8-amount        1048573 non-null  object \n",
            "dtypes: float64(6), object(10)\n",
            "memory usage: 128.0+ MB\n"
          ],
          "name": "stdout"
        }
      ]
    },
    {
      "cell_type": "code",
      "metadata": {
        "id": "6bO-c40jh-On",
        "colab_type": "code",
        "colab": {
          "base_uri": "https://localhost:8080/",
          "height": 407
        },
        "outputId": "cebef9f8-4d46-4710-adf0-d3f329ed7fb2"
      },
      "source": [
        "test.info()"
      ],
      "execution_count": null,
      "outputs": [
        {
          "output_type": "stream",
          "text": [
            "<class 'pandas.core.frame.DataFrame'>\n",
            "RangeIndex: 154235 entries, 0 to 154234\n",
            "Data columns (total 15 columns):\n",
            " #   Column              Non-Null Count   Dtype  \n",
            "---  ------              --------------   -----  \n",
            " 0   vendor_id           154235 non-null  int64  \n",
            " 1   pickup_loc          154235 non-null  float64\n",
            " 2   drop_loc            154235 non-null  float64\n",
            " 3   driver_tip          154235 non-null  float64\n",
            " 4   mta_tax             154235 non-null  float64\n",
            " 5   distance            154235 non-null  float64\n",
            " 6   pickup_time         154235 non-null  object \n",
            " 7   drop_time           154235 non-null  object \n",
            " 8   num_passengers      154235 non-null  float64\n",
            " 9   toll_amount         154235 non-null  float64\n",
            " 10  payment_method      154235 non-null  float64\n",
            " 11  rate_code           154235 non-null  float64\n",
            " 12  stored_flag         154235 non-null  object \n",
            " 13  extra_charges       154235 non-null  float64\n",
            " 14  improvement_charge  154235 non-null  float64\n",
            "dtypes: float64(11), int64(1), object(3)\n",
            "memory usage: 17.7+ MB\n"
          ],
          "name": "stdout"
        }
      ]
    },
    {
      "cell_type": "markdown",
      "metadata": {
        "id": "qG8MgBROifCH",
        "colab_type": "text"
      },
      "source": [
        "Making datatype of test set and dataset similar "
      ]
    },
    {
      "cell_type": "code",
      "metadata": {
        "id": "3y0ATyDeir5r",
        "colab_type": "code",
        "colab": {}
      },
      "source": [
        "xt=dataset"
      ],
      "execution_count": null,
      "outputs": []
    },
    {
      "cell_type": "code",
      "metadata": {
        "id": "ZJ7zYbqiix4H",
        "colab_type": "code",
        "colab": {}
      },
      "source": [
        "x=xt['total+AF8-amount'].astype(str)\n",
        "for key,value in x.iteritems():\n",
        "    if value.isdigit():\n",
        "        None\n",
        "    elif value.replace('.','',1).isdigit() and value.count('.')<2:\n",
        "        None\n",
        "    else:\n",
        "        y=value.split('-')\n",
        "        xt=xt.drop(key)"
      ],
      "execution_count": null,
      "outputs": []
    },
    {
      "cell_type": "code",
      "metadata": {
        "id": "5eevg70CjHmN",
        "colab_type": "code",
        "colab": {}
      },
      "source": [
        "x=xt['improvement+AF8-charge'].astype(str)\n",
        "for key,value in x.iteritems():\n",
        "    if value.isdigit():\n",
        "        None\n",
        "    elif value.replace('.','',1).isdigit() and value.count('.')<2:\n",
        "        None\n",
        "    else:\n",
        "        y=value.split('-')\n",
        "        xt=xt.drop(key)"
      ],
      "execution_count": null,
      "outputs": []
    },
    {
      "cell_type": "code",
      "metadata": {
        "id": "kT2CrL0ejU0I",
        "colab_type": "code",
        "colab": {}
      },
      "source": [
        "x=xt['extra+AF8-charge'].astype(str)\n",
        "for key,value in x.iteritems():\n",
        "    if value.isdigit():\n",
        "        None\n",
        "    elif value.replace('.','',1).isdigit() and value.count('.')<2:\n",
        "        None\n",
        "    else:\n",
        "        y=value.split('-')\n",
        "        xt=xt.drop(key)"
      ],
      "execution_count": null,
      "outputs": []
    },
    {
      "cell_type": "code",
      "metadata": {
        "id": "bimMzznNjnGk",
        "colab_type": "code",
        "colab": {}
      },
      "source": [
        "x=xt['toll+AF8-amount'].astype(str)\n",
        "for key,value in x.iteritems():\n",
        "    if value.isdigit():\n",
        "        None\n",
        "    elif value.replace('.','',1).isdigit() and value.count('.')<2:\n",
        "        None\n",
        "    else:\n",
        "        y=value.split('-')\n",
        "        xt=xt.drop(key)"
      ],
      "execution_count": null,
      "outputs": []
    },
    {
      "cell_type": "code",
      "metadata": {
        "id": "0Ub2ROlGjt-x",
        "colab_type": "code",
        "colab": {}
      },
      "source": [
        "x=xt['mta+AF8-tax'].astype(str)\n",
        "for key,value in x.iteritems():\n",
        "    if value.isdigit():\n",
        "        None\n",
        "    elif value.replace('.','',1).isdigit() and value.count('.')<2:\n",
        "        None\n",
        "    else:\n",
        "        y=value.split('-')\n",
        "        xt=xt.drop(key)"
      ],
      "execution_count": null,
      "outputs": []
    },
    {
      "cell_type": "code",
      "metadata": {
        "id": "c3xfvH9kl0n0",
        "colab_type": "code",
        "colab": {}
      },
      "source": [
        "x=xt['driver+AF8-tip'].astype(str)\n",
        "for key,value in x.iteritems():\n",
        "    if value.isdigit():\n",
        "        None\n",
        "    elif value.replace('.','',1).isdigit() and value.count('.')<2:\n",
        "        None\n",
        "    else:\n",
        "        y=value.split('-')\n",
        "        xt=xt.drop(key)"
      ],
      "execution_count": null,
      "outputs": []
    },
    {
      "cell_type": "code",
      "metadata": {
        "id": "1KmblrIel_Gb",
        "colab_type": "code",
        "colab": {}
      },
      "source": [
        "x=xt['vendor+AF8-id'].astype(str)\n",
        "for key,value in x.iteritems():\n",
        "    if value.isdigit():\n",
        "        None\n",
        "    elif value.replace('.','',1).isdigit() and value.count('.')<2:\n",
        "        None\n",
        "    else:\n",
        "        y=value.split('-')\n",
        "        xt=xt.drop(key)"
      ],
      "execution_count": null,
      "outputs": []
    },
    {
      "cell_type": "markdown",
      "metadata": {
        "id": "mij1tU0umZ-L",
        "colab_type": "text"
      },
      "source": [
        "Now changing all the converted colums to respected datatype"
      ]
    },
    {
      "cell_type": "code",
      "metadata": {
        "id": "hziXClmJmhk-",
        "colab_type": "code",
        "colab": {}
      },
      "source": [
        "xt['total+AF8-amount']=xt['total+AF8-amount'].apply(pd.to_numeric)\n",
        "xt['improvement+AF8-charge']=xt['improvement+AF8-charge'].apply(pd.to_numeric)\n",
        "xt['extra+AF8-charges']=xt['extra+AF8-charges'].apply(pd.to_numeric)\n",
        "xt['toll+AF8-amount']=xt['toll+AF8-amount'].apply(pd.to_numeric)\n",
        "xt['mta+AF8-tax']=xt['mta+AF8-tax'].apply(pd.to_numeric)\n",
        "xt['driver+AF8-tip']=xt['driver+AF8-tip'].apply(pd.to_numeric)\n",
        "xt['vendor+AF8-id']=xt['vendor+AF8-id'].apply(pd.to_numeric)"
      ],
      "execution_count": null,
      "outputs": []
    },
    {
      "cell_type": "code",
      "metadata": {
        "id": "8w7gBHV7m1_Q",
        "colab_type": "code",
        "colab": {
          "base_uri": "https://localhost:8080/",
          "height": 425
        },
        "outputId": "9a94f977-bb64-4428-8633-7f936f7d7f1f"
      },
      "source": [
        "xt.info()"
      ],
      "execution_count": null,
      "outputs": [
        {
          "output_type": "stream",
          "text": [
            "<class 'pandas.core.frame.DataFrame'>\n",
            "Int64Index: 1048052 entries, 0 to 1048574\n",
            "Data columns (total 16 columns):\n",
            " #   Column                  Non-Null Count    Dtype  \n",
            "---  ------                  --------------    -----  \n",
            " 0   vendor+AF8-id           1048052 non-null  int64  \n",
            " 1   pickup+AF8-loc          1048052 non-null  float64\n",
            " 2   drop+AF8-loc            1048052 non-null  float64\n",
            " 3   driver+AF8-tip          1048052 non-null  float64\n",
            " 4   mta+AF8-tax             1048052 non-null  float64\n",
            " 5   distance                1048052 non-null  float64\n",
            " 6   pickup+AF8-time         1048052 non-null  object \n",
            " 7   drop+AF8-time           1048052 non-null  object \n",
            " 8   num+AF8-passengers      1048052 non-null  float64\n",
            " 9   toll+AF8-amount         1048052 non-null  float64\n",
            " 10  payment+AF8-method      1048052 non-null  float64\n",
            " 11  rate+AF8-code           1048052 non-null  float64\n",
            " 12  stored+AF8-flag         1048052 non-null  object \n",
            " 13  extra+AF8-charges       1048052 non-null  float64\n",
            " 14  improvement+AF8-charge  1048052 non-null  float64\n",
            " 15  total+AF8-amount        1048052 non-null  float64\n",
            "dtypes: float64(12), int64(1), object(3)\n",
            "memory usage: 135.9+ MB\n"
          ],
          "name": "stdout"
        }
      ]
    },
    {
      "cell_type": "markdown",
      "metadata": {
        "id": "JERJgE-8nq44",
        "colab_type": "text"
      },
      "source": [
        "### **Encoding**"
      ]
    },
    {
      "cell_type": "code",
      "metadata": {
        "id": "N8d4BKF_nv5i",
        "colab_type": "code",
        "colab": {}
      },
      "source": [
        "from sklearn.preprocessing import LabelEncoder\n",
        "le=LabelEncoder()"
      ],
      "execution_count": null,
      "outputs": []
    },
    {
      "cell_type": "code",
      "metadata": {
        "id": "sWUyfUfPn6uE",
        "colab_type": "code",
        "colab": {}
      },
      "source": [
        "xt['stored+AF8-flag'] = le.fit_transform(xt['stored+AF8-flag'].astype(str))\n",
        "xt['drop+AF8-time'] = le.fit_transform(xt['drop+AF8-time'].astype(str))\n",
        "xt['pickup+AF8-time'] = le.fit_transform(xt['pickup+AF8-time'].astype(str))"
      ],
      "execution_count": null,
      "outputs": []
    },
    {
      "cell_type": "markdown",
      "metadata": {
        "id": "3abSxRqvWEIB",
        "colab_type": "text"
      },
      "source": [
        "## Splitting the dataset into the Training set and Test set"
      ]
    },
    {
      "cell_type": "code",
      "metadata": {
        "id": "hm48sif-WWsh",
        "colab_type": "code",
        "colab": {}
      },
      "source": [
        "from sklearn.model_selection import train_test_split\n"
      ],
      "execution_count": null,
      "outputs": []
    },
    {
      "cell_type": "code",
      "metadata": {
        "id": "sJx9lnpvofoY",
        "colab_type": "code",
        "colab": {
          "base_uri": "https://localhost:8080/",
          "height": 234
        },
        "outputId": "57cd6974-6bf0-4469-a7f2-3f794fc0f9a5"
      },
      "source": [
        "fea=xt.iloc[:,:15]\n",
        "fea.head()\n"
      ],
      "execution_count": null,
      "outputs": [
        {
          "output_type": "execute_result",
          "data": {
            "text/html": [
              "<div>\n",
              "<style scoped>\n",
              "    .dataframe tbody tr th:only-of-type {\n",
              "        vertical-align: middle;\n",
              "    }\n",
              "\n",
              "    .dataframe tbody tr th {\n",
              "        vertical-align: top;\n",
              "    }\n",
              "\n",
              "    .dataframe thead th {\n",
              "        text-align: right;\n",
              "    }\n",
              "</style>\n",
              "<table border=\"1\" class=\"dataframe\">\n",
              "  <thead>\n",
              "    <tr style=\"text-align: right;\">\n",
              "      <th></th>\n",
              "      <th>vendor+AF8-id</th>\n",
              "      <th>pickup+AF8-loc</th>\n",
              "      <th>drop+AF8-loc</th>\n",
              "      <th>driver+AF8-tip</th>\n",
              "      <th>mta+AF8-tax</th>\n",
              "      <th>distance</th>\n",
              "      <th>pickup+AF8-time</th>\n",
              "      <th>drop+AF8-time</th>\n",
              "      <th>num+AF8-passengers</th>\n",
              "      <th>toll+AF8-amount</th>\n",
              "      <th>payment+AF8-method</th>\n",
              "      <th>rate+AF8-code</th>\n",
              "      <th>stored+AF8-flag</th>\n",
              "      <th>extra+AF8-charges</th>\n",
              "      <th>improvement+AF8-charge</th>\n",
              "    </tr>\n",
              "  </thead>\n",
              "  <tbody>\n",
              "    <tr>\n",
              "      <th>0</th>\n",
              "      <td>1</td>\n",
              "      <td>170.0</td>\n",
              "      <td>233.0</td>\n",
              "      <td>1.83</td>\n",
              "      <td>0.5</td>\n",
              "      <td>0.70</td>\n",
              "      <td>82254</td>\n",
              "      <td>82474</td>\n",
              "      <td>1.0</td>\n",
              "      <td>0.0</td>\n",
              "      <td>1.0</td>\n",
              "      <td>1.0</td>\n",
              "      <td>0</td>\n",
              "      <td>1.0</td>\n",
              "      <td>0.3</td>\n",
              "    </tr>\n",
              "    <tr>\n",
              "      <th>1</th>\n",
              "      <td>2</td>\n",
              "      <td>151.0</td>\n",
              "      <td>243.0</td>\n",
              "      <td>3.56</td>\n",
              "      <td>0.5</td>\n",
              "      <td>4.64</td>\n",
              "      <td>21405</td>\n",
              "      <td>22850</td>\n",
              "      <td>1.0</td>\n",
              "      <td>0.0</td>\n",
              "      <td>1.0</td>\n",
              "      <td>1.0</td>\n",
              "      <td>0</td>\n",
              "      <td>1.0</td>\n",
              "      <td>0.3</td>\n",
              "    </tr>\n",
              "    <tr>\n",
              "      <th>2</th>\n",
              "      <td>2</td>\n",
              "      <td>68.0</td>\n",
              "      <td>90.0</td>\n",
              "      <td>1.50</td>\n",
              "      <td>0.5</td>\n",
              "      <td>1.29</td>\n",
              "      <td>7149</td>\n",
              "      <td>7489</td>\n",
              "      <td>2.0</td>\n",
              "      <td>0.0</td>\n",
              "      <td>1.0</td>\n",
              "      <td>1.0</td>\n",
              "      <td>0</td>\n",
              "      <td>0.0</td>\n",
              "      <td>0.3</td>\n",
              "    </tr>\n",
              "    <tr>\n",
              "      <th>3</th>\n",
              "      <td>2</td>\n",
              "      <td>142.0</td>\n",
              "      <td>234.0</td>\n",
              "      <td>1.50</td>\n",
              "      <td>0.5</td>\n",
              "      <td>2.74</td>\n",
              "      <td>97009</td>\n",
              "      <td>98341</td>\n",
              "      <td>1.0</td>\n",
              "      <td>0.0</td>\n",
              "      <td>1.0</td>\n",
              "      <td>1.0</td>\n",
              "      <td>0</td>\n",
              "      <td>0.0</td>\n",
              "      <td>0.3</td>\n",
              "    </tr>\n",
              "    <tr>\n",
              "      <th>4</th>\n",
              "      <td>2</td>\n",
              "      <td>238.0</td>\n",
              "      <td>238.0</td>\n",
              "      <td>0.00</td>\n",
              "      <td>0.5</td>\n",
              "      <td>0.45</td>\n",
              "      <td>135047</td>\n",
              "      <td>135223</td>\n",
              "      <td>6.0</td>\n",
              "      <td>0.0</td>\n",
              "      <td>2.0</td>\n",
              "      <td>1.0</td>\n",
              "      <td>0</td>\n",
              "      <td>0.0</td>\n",
              "      <td>0.3</td>\n",
              "    </tr>\n",
              "  </tbody>\n",
              "</table>\n",
              "</div>"
            ],
            "text/plain": [
              "   vendor+AF8-id  pickup+AF8-loc  ...  extra+AF8-charges  improvement+AF8-charge\n",
              "0              1           170.0  ...                1.0                     0.3\n",
              "1              2           151.0  ...                1.0                     0.3\n",
              "2              2            68.0  ...                0.0                     0.3\n",
              "3              2           142.0  ...                0.0                     0.3\n",
              "4              2           238.0  ...                0.0                     0.3\n",
              "\n",
              "[5 rows x 15 columns]"
            ]
          },
          "metadata": {
            "tags": []
          },
          "execution_count": 34
        }
      ]
    },
    {
      "cell_type": "code",
      "metadata": {
        "id": "bgbvvMpNoxPM",
        "colab_type": "code",
        "colab": {
          "base_uri": "https://localhost:8080/",
          "height": 197
        },
        "outputId": "9821ad44-e316-4249-8372-fac62a99cb55"
      },
      "source": [
        "res=xt.iloc[:,15:]\n",
        "res.head()"
      ],
      "execution_count": null,
      "outputs": [
        {
          "output_type": "execute_result",
          "data": {
            "text/html": [
              "<div>\n",
              "<style scoped>\n",
              "    .dataframe tbody tr th:only-of-type {\n",
              "        vertical-align: middle;\n",
              "    }\n",
              "\n",
              "    .dataframe tbody tr th {\n",
              "        vertical-align: top;\n",
              "    }\n",
              "\n",
              "    .dataframe thead th {\n",
              "        text-align: right;\n",
              "    }\n",
              "</style>\n",
              "<table border=\"1\" class=\"dataframe\">\n",
              "  <thead>\n",
              "    <tr style=\"text-align: right;\">\n",
              "      <th></th>\n",
              "      <th>total+AF8-amount</th>\n",
              "    </tr>\n",
              "  </thead>\n",
              "  <tbody>\n",
              "    <tr>\n",
              "      <th>0</th>\n",
              "      <td>9.13</td>\n",
              "    </tr>\n",
              "    <tr>\n",
              "      <th>1</th>\n",
              "      <td>21.36</td>\n",
              "    </tr>\n",
              "    <tr>\n",
              "      <th>2</th>\n",
              "      <td>8.80</td>\n",
              "    </tr>\n",
              "    <tr>\n",
              "      <th>3</th>\n",
              "      <td>14.80</td>\n",
              "    </tr>\n",
              "    <tr>\n",
              "      <th>4</th>\n",
              "      <td>4.80</td>\n",
              "    </tr>\n",
              "  </tbody>\n",
              "</table>\n",
              "</div>"
            ],
            "text/plain": [
              "   total+AF8-amount\n",
              "0              9.13\n",
              "1             21.36\n",
              "2              8.80\n",
              "3             14.80\n",
              "4              4.80"
            ]
          },
          "metadata": {
            "tags": []
          },
          "execution_count": 35
        }
      ]
    },
    {
      "cell_type": "code",
      "metadata": {
        "id": "97XAq5rBo4qv",
        "colab_type": "code",
        "colab": {}
      },
      "source": [
        "X_train,X_test,y_train,y_test = train_test_split(fea,res,test_size=0.3,random_state=0)"
      ],
      "execution_count": null,
      "outputs": []
    },
    {
      "cell_type": "markdown",
      "metadata": {
        "id": "vHytSvJspHJf",
        "colab_type": "text"
      },
      "source": [
        "### **Model 1: Linear Regression**"
      ]
    },
    {
      "cell_type": "code",
      "metadata": {
        "id": "2U7UeSQapQEF",
        "colab_type": "code",
        "colab": {
          "base_uri": "https://localhost:8080/",
          "height": 34
        },
        "outputId": "fea9dbbc-a359-41a5-e2a3-14c70cef8564"
      },
      "source": [
        "from sklearn.linear_model import LinearRegression\n",
        "model1 = LinearRegression()\n",
        "model1.fit(X_train,y_train)"
      ],
      "execution_count": null,
      "outputs": [
        {
          "output_type": "execute_result",
          "data": {
            "text/plain": [
              "LinearRegression(copy_X=True, fit_intercept=True, n_jobs=None, normalize=False)"
            ]
          },
          "metadata": {
            "tags": []
          },
          "execution_count": 37
        }
      ]
    },
    {
      "cell_type": "code",
      "metadata": {
        "id": "3y_2zSJvpqcx",
        "colab_type": "code",
        "colab": {
          "base_uri": "https://localhost:8080/",
          "height": 34
        },
        "outputId": "f6cacd2f-d222-4f52-ce12-c21462495f1c"
      },
      "source": [
        "prediction1=model1.predict(X_test)\n",
        "from sklearn.metrics import mean_squared_error,mean_absolute_error\n",
        "mean_squared_error(prediction1,y_test)\n",
        "mean_absolute_error(prediction1,y_test)"
      ],
      "execution_count": null,
      "outputs": [
        {
          "output_type": "execute_result",
          "data": {
            "text/plain": [
              "1.9913970288888185"
            ]
          },
          "metadata": {
            "tags": []
          },
          "execution_count": 38
        }
      ]
    },
    {
      "cell_type": "markdown",
      "metadata": {
        "id": "41zU07tdqJvY",
        "colab_type": "text"
      },
      "source": [
        "### **Model 2 : Random Forest Regression **"
      ]
    },
    {
      "cell_type": "code",
      "metadata": {
        "id": "S0hssGlJqVGE",
        "colab_type": "code",
        "colab": {
          "base_uri": "https://localhost:8080/",
          "height": 196
        },
        "outputId": "a1dd169d-2c91-4976-81df-1a7676b4b057"
      },
      "source": [
        "from sklearn.ensemble import RandomForestRegressor\n",
        "model2=RandomForestRegressor(n_estimators=250,random_state=0)\n",
        "model2.fit(X_train,y_train)"
      ],
      "execution_count": null,
      "outputs": [
        {
          "output_type": "stream",
          "text": [
            "/usr/local/lib/python3.6/dist-packages/ipykernel_launcher.py:3: DataConversionWarning: A column-vector y was passed when a 1d array was expected. Please change the shape of y to (n_samples,), for example using ravel().\n",
            "  This is separate from the ipykernel package so we can avoid doing imports until\n"
          ],
          "name": "stderr"
        },
        {
          "output_type": "execute_result",
          "data": {
            "text/plain": [
              "RandomForestRegressor(bootstrap=True, ccp_alpha=0.0, criterion='mse',\n",
              "                      max_depth=None, max_features='auto', max_leaf_nodes=None,\n",
              "                      max_samples=None, min_impurity_decrease=0.0,\n",
              "                      min_impurity_split=None, min_samples_leaf=1,\n",
              "                      min_samples_split=2, min_weight_fraction_leaf=0.0,\n",
              "                      n_estimators=250, n_jobs=None, oob_score=False,\n",
              "                      random_state=0, verbose=0, warm_start=False)"
            ]
          },
          "metadata": {
            "tags": []
          },
          "execution_count": 42
        }
      ]
    },
    {
      "cell_type": "code",
      "metadata": {
        "id": "7WYZC04zqoGN",
        "colab_type": "code",
        "colab": {
          "base_uri": "https://localhost:8080/",
          "height": 34
        },
        "outputId": "171be259-037b-4e46-fad1-e2723c2b24e0"
      },
      "source": [
        "prediction2=model2.predict(X_test)\n",
        "from sklearn.metrics import mean_squared_error,mean_absolute_error\n",
        "mean_squared_error(prediction2,y_test)\n",
        "mean_absolute_error(prediction2,y_test)"
      ],
      "execution_count": null,
      "outputs": [
        {
          "output_type": "execute_result",
          "data": {
            "text/plain": [
              "0.9017128835687512"
            ]
          },
          "metadata": {
            "tags": []
          },
          "execution_count": 46
        }
      ]
    },
    {
      "cell_type": "markdown",
      "metadata": {
        "id": "GyiaG-a-rxO4",
        "colab_type": "text"
      },
      "source": [
        "### **Encoding the data to be predicted**"
      ]
    },
    {
      "cell_type": "code",
      "metadata": {
        "id": "Ahs1UUEnr5f0",
        "colab_type": "code",
        "colab": {}
      },
      "source": [
        "test['pickup_time']=le.fit_transform(test['pickup_time'].astype(str))\n",
        "test['drop_time']=le.fit_transform(test['drop_time'].astype(str))\n",
        "test['stored_flag']=le.fit_transform(test['stored_flag'].astype(str))"
      ],
      "execution_count": null,
      "outputs": []
    },
    {
      "cell_type": "markdown",
      "metadata": {
        "id": "jZeeM5jysOz1",
        "colab_type": "text"
      },
      "source": [
        "### **Final Predictions**"
      ]
    },
    {
      "cell_type": "code",
      "metadata": {
        "id": "ranJ9rgvsTlM",
        "colab_type": "code",
        "colab": {}
      },
      "source": [
        "ans=model2.predict(test)"
      ],
      "execution_count": null,
      "outputs": []
    },
    {
      "cell_type": "code",
      "metadata": {
        "id": "_QwQUhivtMHb",
        "colab_type": "code",
        "colab": {}
      },
      "source": [
        "y=[]\n",
        "for i in range(154235):\n",
        "    y.append(i)\n",
        "predi=pd.DataFrame(ans)\n",
        "predi.rename(columns={0:'total_amount'},inplace=True)\n",
        "predi['ID']=y\n",
        "predi = predi[['ID','total_amount']]"
      ],
      "execution_count": null,
      "outputs": []
    },
    {
      "cell_type": "markdown",
      "metadata": {
        "id": "bLh0UA_uxbaP",
        "colab_type": "text"
      },
      "source": [
        "### **Loading results**"
      ]
    },
    {
      "cell_type": "code",
      "metadata": {
        "id": "-xZAC9MGxqk-",
        "colab_type": "code",
        "colab": {
          "base_uri": "https://localhost:8080/",
          "height": 125
        },
        "outputId": "74ca7b8a-2919-4a0e-fc14-8713d89570f2"
      },
      "source": [
        "predi.to_csv('results.csv',index=False)\n",
        "from google.colab import drive\n",
        "drive.mount('drive')"
      ],
      "execution_count": null,
      "outputs": [
        {
          "output_type": "stream",
          "text": [
            "Go to this URL in a browser: https://accounts.google.com/o/oauth2/auth?client_id=947318989803-6bn6qk8qdgf4n4g3pfee6491hc0brc4i.apps.googleusercontent.com&redirect_uri=urn%3aietf%3awg%3aoauth%3a2.0%3aoob&response_type=code&scope=email%20https%3a%2f%2fwww.googleapis.com%2fauth%2fdocs.test%20https%3a%2f%2fwww.googleapis.com%2fauth%2fdrive%20https%3a%2f%2fwww.googleapis.com%2fauth%2fdrive.photos.readonly%20https%3a%2f%2fwww.googleapis.com%2fauth%2fpeopleapi.readonly\n",
            "\n",
            "Enter your authorization code:\n",
            "··········\n",
            "Mounted at drive\n"
          ],
          "name": "stdout"
        }
      ]
    },
    {
      "cell_type": "code",
      "metadata": {
        "id": "FEIWWCXayxZn",
        "colab_type": "code",
        "colab": {}
      },
      "source": [
        ""
      ],
      "execution_count": null,
      "outputs": []
    }
  ]
}